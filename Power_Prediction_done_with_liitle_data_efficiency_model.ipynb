{
  "nbformat": 4,
  "nbformat_minor": 0,
  "metadata": {
    "colab": {
      "provenance": [],
      "authorship_tag": "ABX9TyPNaZH0btLawfOI43PRI/6d"
    },
    "kernelspec": {
      "name": "python3",
      "display_name": "Python 3"
    },
    "language_info": {
      "name": "python"
    }
  },
  "cells": [
    {
      "cell_type": "markdown",
      "source": [
        "# Power prediction model at a domestic level\n",
        "There is a massive drift of users shifting and changing energy sources. This is not the problem, the problem is to ascertain if the current sources are being utilized well. This model determines such. This is a project that will take a long time with a collaboration between Mathematics and Nat. Science. We need to collect data from Fluke's power logger."
      ],
      "metadata": {
        "id": "n8xAfvT8BAG9"
      }
    },
    {
      "cell_type": "code",
      "source": [
        "import numpy as np"
      ],
      "metadata": {
        "id": "S9qD6QkXBzsu"
      },
      "execution_count": 1,
      "outputs": []
    },
    {
      "cell_type": "code",
      "source": [
        "from sklearn.linear_model import LinearRegression"
      ],
      "metadata": {
        "id": "81pX1JnAD95u"
      },
      "execution_count": 2,
      "outputs": []
    },
    {
      "cell_type": "code",
      "source": [
        "\n",
        "# Sample power consumption data (replace with actual data)\n",
        "days = np.array([1, 2, 3, 4, 5, 6, 7])"
      ],
      "metadata": {
        "id": "T6UXI2UVEcUh"
      },
      "execution_count": 3,
      "outputs": []
    },
    {
      "cell_type": "code",
      "source": [
        "consumption = np.array([20, 18, 25, 22, 28, 30, 26])"
      ],
      "metadata": {
        "id": "NOldr4U1EmKw"
      },
      "execution_count": 4,
      "outputs": []
    },
    {
      "cell_type": "code",
      "source": [
        "# Reshape the data for training\n",
        "days = days.reshape(-1, 1)"
      ],
      "metadata": {
        "id": "cOH7ayqSEwzt"
      },
      "execution_count": 5,
      "outputs": []
    },
    {
      "cell_type": "code",
      "source": [
        "# Train a simple linear regression model\n",
        "model = LinearRegression().fit(days, consumption)\n"
      ],
      "metadata": {
        "id": "Khv4GLxTE1Lu"
      },
      "execution_count": 6,
      "outputs": []
    },
    {
      "cell_type": "code",
      "source": [
        "# Predict future consumption (e.g., for the next day)\n",
        "next_day = np.array([[8]])  # Replace with the next day's value\n",
        "predicted_consumption = model.predict(next_day)"
      ],
      "metadata": {
        "id": "mAfE5oPCE6zF"
      },
      "execution_count": 7,
      "outputs": []
    },
    {
      "cell_type": "code",
      "source": [
        "# Advice based on predicted consumption\n",
        "if predicted_consumption > 25:\n",
        "    advice = \"Your power consumption is high. Consider energy-efficient appliances.\"\n",
        "else:\n",
        "    advice = \"Great job on managing your power consumption!\"\n"
      ],
      "metadata": {
        "id": "0xCoyRknFAzK"
      },
      "execution_count": 8,
      "outputs": []
    },
    {
      "cell_type": "code",
      "source": [
        "\n",
        "# Print the advice\n",
        "print(\"Predicted Consumption:\", predicted_consumption)\n",
        "print(\"Advice:\", advice)"
      ],
      "metadata": {
        "colab": {
          "base_uri": "https://localhost:8080/"
        },
        "id": "hdYqC917FGA6",
        "outputId": "beaece03-3121-49c7-e59d-f0932d617d6e"
      },
      "execution_count": 9,
      "outputs": [
        {
          "output_type": "stream",
          "name": "stdout",
          "text": [
            "Predicted Consumption: [30.57142857]\n",
            "Advice: Your power consumption is high. Consider energy-efficient appliances.\n"
          ]
        }
      ]
    }
  ]
}